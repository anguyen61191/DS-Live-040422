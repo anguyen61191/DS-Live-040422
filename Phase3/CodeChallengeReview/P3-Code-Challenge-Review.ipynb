{
 "cells": [
  {
   "cell_type": "markdown",
   "metadata": {},
   "source": [
    "# Phase 3 Code Challenge Review\n",
    "\n",
    "Made using resources from the Seattle team - thanks y'all."
   ]
  },
  {
   "cell_type": "markdown",
   "metadata": {},
   "source": [
    "## Overview\n",
    "\n",
    "* Gradient Descent\n",
    "* Logistic Regression\n",
    "* Classification Metrics\n",
    "* Decision Trees"
   ]
  },
  {
   "cell_type": "code",
   "execution_count": 2,
   "metadata": {},
   "outputs": [],
   "source": [
    "# Imports\n",
    "import pandas as pd\n",
    "import numpy as np\n",
    "\n",
    "import matplotlib.pyplot as plt\n",
    "import seaborn as sns\n",
    "\n",
    "from sklearn.preprocessing import StandardScaler\n",
    "from sklearn.linear_model import LogisticRegression\n",
    "from sklearn.tree import DecisionTreeClassifier\n",
    "from sklearn.model_selection import train_test_split\n",
    "from sklearn.metrics import accuracy_score, recall_score, precision_score, f1_score\n",
    "from sklearn.metrics import plot_confusion_matrix\n",
    "from sklearn.metrics import roc_auc_score, plot_roc_curve\n",
    "from sklearn.tree import export_graphviz\n",
    "# import graphviz"
   ]
  },
  {
   "cell_type": "markdown",
   "metadata": {},
   "source": [
    "## Part 1: Gradient Descent"
   ]
  },
  {
   "cell_type": "markdown",
   "metadata": {},
   "source": [
    "### Set Up"
   ]
  },
  {
   "cell_type": "code",
   "execution_count": 3,
   "metadata": {},
   "outputs": [],
   "source": [
    "# Grab the data from 'auto-mpg.csv'\n",
    "mpg_df = pd.read_csv(\"data/auto-mpg.csv\")"
   ]
  },
  {
   "cell_type": "code",
   "execution_count": 4,
   "metadata": {},
   "outputs": [
    {
     "data": {
      "text/html": [
       "<div>\n",
       "<style scoped>\n",
       "    .dataframe tbody tr th:only-of-type {\n",
       "        vertical-align: middle;\n",
       "    }\n",
       "\n",
       "    .dataframe tbody tr th {\n",
       "        vertical-align: top;\n",
       "    }\n",
       "\n",
       "    .dataframe thead th {\n",
       "        text-align: right;\n",
       "    }\n",
       "</style>\n",
       "<table border=\"1\" class=\"dataframe\">\n",
       "  <thead>\n",
       "    <tr style=\"text-align: right;\">\n",
       "      <th></th>\n",
       "      <th>mpg</th>\n",
       "      <th>cylinders</th>\n",
       "      <th>displacement</th>\n",
       "      <th>horsepower</th>\n",
       "      <th>weight</th>\n",
       "      <th>acceleration</th>\n",
       "      <th>model year</th>\n",
       "      <th>origin</th>\n",
       "      <th>car name</th>\n",
       "    </tr>\n",
       "  </thead>\n",
       "  <tbody>\n",
       "    <tr>\n",
       "      <th>0</th>\n",
       "      <td>18.0</td>\n",
       "      <td>8</td>\n",
       "      <td>307.0</td>\n",
       "      <td>130</td>\n",
       "      <td>3504</td>\n",
       "      <td>12.0</td>\n",
       "      <td>70</td>\n",
       "      <td>1</td>\n",
       "      <td>chevrolet chevelle malibu</td>\n",
       "    </tr>\n",
       "    <tr>\n",
       "      <th>1</th>\n",
       "      <td>15.0</td>\n",
       "      <td>8</td>\n",
       "      <td>350.0</td>\n",
       "      <td>165</td>\n",
       "      <td>3693</td>\n",
       "      <td>11.5</td>\n",
       "      <td>70</td>\n",
       "      <td>1</td>\n",
       "      <td>buick skylark 320</td>\n",
       "    </tr>\n",
       "    <tr>\n",
       "      <th>2</th>\n",
       "      <td>18.0</td>\n",
       "      <td>8</td>\n",
       "      <td>318.0</td>\n",
       "      <td>150</td>\n",
       "      <td>3436</td>\n",
       "      <td>11.0</td>\n",
       "      <td>70</td>\n",
       "      <td>1</td>\n",
       "      <td>plymouth satellite</td>\n",
       "    </tr>\n",
       "    <tr>\n",
       "      <th>3</th>\n",
       "      <td>16.0</td>\n",
       "      <td>8</td>\n",
       "      <td>304.0</td>\n",
       "      <td>150</td>\n",
       "      <td>3433</td>\n",
       "      <td>12.0</td>\n",
       "      <td>70</td>\n",
       "      <td>1</td>\n",
       "      <td>amc rebel sst</td>\n",
       "    </tr>\n",
       "    <tr>\n",
       "      <th>4</th>\n",
       "      <td>17.0</td>\n",
       "      <td>8</td>\n",
       "      <td>302.0</td>\n",
       "      <td>140</td>\n",
       "      <td>3449</td>\n",
       "      <td>10.5</td>\n",
       "      <td>70</td>\n",
       "      <td>1</td>\n",
       "      <td>ford torino</td>\n",
       "    </tr>\n",
       "  </tbody>\n",
       "</table>\n",
       "</div>"
      ],
      "text/plain": [
       "    mpg  cylinders  displacement  horsepower  weight  acceleration  \\\n",
       "0  18.0          8         307.0         130    3504          12.0   \n",
       "1  15.0          8         350.0         165    3693          11.5   \n",
       "2  18.0          8         318.0         150    3436          11.0   \n",
       "3  16.0          8         304.0         150    3433          12.0   \n",
       "4  17.0          8         302.0         140    3449          10.5   \n",
       "\n",
       "   model year  origin                   car name  \n",
       "0          70       1  chevrolet chevelle malibu  \n",
       "1          70       1          buick skylark 320  \n",
       "2          70       1         plymouth satellite  \n",
       "3          70       1              amc rebel sst  \n",
       "4          70       1                ford torino  "
      ]
     },
     "execution_count": 4,
     "metadata": {},
     "output_type": "execute_result"
    }
   ],
   "source": [
    "# Explore the data\n",
    "mpg_df.head()"
   ]
  },
  {
   "cell_type": "code",
   "execution_count": 5,
   "metadata": {},
   "outputs": [
    {
     "data": {
      "image/png": "[encoded data removed]",
      "text/plain": [
       "<Figure size 576x432 with 1 Axes>"
      ]
     },
     "metadata": {
      "needs_background": "light"
     },
     "output_type": "display_data"
    }
   ],
   "source": [
    "# Let's plot a simple linear regression line using just the horsepower column\n",
    "plt.figure(figsize=(8, 6))\n",
    "sns.regplot(x='horsepower', y='mpg', data=mpg_df, line_kws={\"color\":\"orange\"})\n",
    "plt.title('Relationship Between Horsepower and MPG')\n",
    "plt.xlim(0, 250)\n",
    "plt.show()"
   ]
  },
  {
   "cell_type": "markdown",
   "metadata": {},
   "source": [
    "The above graph shows an approximate best fit line for the relationship between `horsepower` and `mpg` in our data.\n"
   ]
  },
  {
   "cell_type": "markdown",
   "metadata": {},
   "source": [
    "### 1) Describe the below chart: What is it showing? What does it tell us?\n",
    "\n",
    "![Slope-RSS relationship image](img/slope-rss-relationship.png)"
   ]
  },
  {
   "cell_type": "code",
   "execution_count": 6,
   "metadata": {},
   "outputs": [
    {
     "data": {
      "text/plain": [
       "'\\nThis Line is showing the relationship between slope and the RSS\\nAt around the slope of .-.157 the RSS is lowest\\n'"
      ]
     },
     "execution_count": 6,
     "metadata": {},
     "output_type": "execute_result"
    }
   ],
   "source": [
    "# call_on_students(1)\n",
    "\"\"\"\n",
    "This Line is showing the relationship between slope and the RSS\n",
    "At around the slope of .-.157 the RSS is lowest\n",
    "\"\"\""
   ]
  },
  {
   "cell_type": "markdown",
   "metadata": {},
   "source": [
    "#### Answer: \n",
    "\n",
    "- This Line is showing the relationship between slope and the RSS\n",
    "- At around the slope of .-.157 the RSS is lowest\n"
   ]
  },
  {
   "cell_type": "markdown",
   "metadata": {},
   "source": [
    "### 2) Imagine that you're starting at a slope towards the top upper left corner. Using Zoom's annotate feature, demonstrate how gradient descent would work "
   ]
  },
  {
   "cell_type": "code",
   "execution_count": 7,
   "metadata": {},
   "outputs": [
    {
     "data": {
      "text/plain": [
       "'\\nAs point gets closer to the bottom the jump  in the change in slope decreases\\n'"
      ]
     },
     "execution_count": 7,
     "metadata": {},
     "output_type": "execute_result"
    }
   ],
   "source": [
    "# call_on_students(1)\n",
    "\"\"\"\n",
    "As point gets closer to the bottom the jump  in the change in slope decreases\n",
    "\"\"\""
   ]
  },
  {
   "cell_type": "markdown",
   "metadata": {},
   "source": [
    "### 3) What is a step size when talking about gradient descent? How does learning rate regulate step size?"
   ]
  },
  {
   "cell_type": "code",
   "execution_count": 8,
   "metadata": {},
   "outputs": [
    {
     "data": {
      "text/plain": [
       "'\\nStep size is the size of the step we take going down the curve to reach the optimal point large steps when farther away\\nand smaller steps as we get close\\n'"
      ]
     },
     "execution_count": 8,
     "metadata": {},
     "output_type": "execute_result"
    }
   ],
   "source": [
    "# call_on_students(1)\n",
    "\"\"\"\n",
    "Step size is the size of the step we take going down the curve to reach the optimal point large steps when farther away\n",
    "and smaller steps as we get close\n",
    "\"\"\""
   ]
  },
  {
   "cell_type": "markdown",
   "metadata": {},
   "source": [
    "#### Answer: \n",
    "\n",
    "- Step size is the size of the step we take going down the curve to reach the optimal point large steps when farther away and smaller steps as we get close\n"
   ]
  },
  {
   "cell_type": "markdown",
   "metadata": {},
   "source": [
    "## Part 2: Logistic Regression"
   ]
  },
  {
   "cell_type": "markdown",
   "metadata": {},
   "source": [
    "### 4) Describe a logistic regression model:\n",
    "\n",
    "- What kind of target is a logistic regression model used for?\n",
    "- What are the predictions that a logistic regression model outputs?\n",
    "- How is it different from linear regression?\n",
    "- Is it a parametric or non-parametric model?"
   ]
  },
  {
   "cell_type": "code",
   "execution_count": 9,
   "metadata": {},
   "outputs": [],
   "source": [
    "# call_on_students(1)"
   ]
  },
  {
   "cell_type": "markdown",
   "metadata": {},
   "source": [
    "#### Answer: \n",
    "\n",
    "- Categorical Data, event, non event, \n",
    "- log loss\n",
    "- f1-score, recall, precision , accuracy\n",
    "- not continuos, does log odss and doesn't find best fit line\n",
    "- parametric\n"
   ]
  },
  {
   "cell_type": "markdown",
   "metadata": {},
   "source": [
    "### 5) Compare a logistic regression model to any of the other model types we've learned:\n",
    "\n",
    "- List one benefit of logistic regression when compared to the other model type\n",
    "- List one reason the other model type might be more useful"
   ]
  },
  {
   "cell_type": "code",
   "execution_count": 10,
   "metadata": {},
   "outputs": [],
   "source": [
    "# call_on_students(1)"
   ]
  },
  {
   "cell_type": "markdown",
   "metadata": {},
   "source": [
    "#### Answer: \n",
    "\n",
    "- It is faster than Decision Tree\n",
    "- Does will with categorical data, good for generalization, more predictive power\n",
    "- not as interpretable\n",
    "- Lazy learning(no training phase for knn, simple algorithm), easy to visualize\n"
   ]
  },
  {
   "cell_type": "markdown",
   "metadata": {},
   "source": [
    "## Part 3: Logistic Regression and Classification Metrics with Code\n",
    "\n",
    "### Set Up"
   ]
  },
  {
   "cell_type": "code",
   "execution_count": 11,
   "metadata": {},
   "outputs": [],
   "source": [
    "# Let's use the same data, but now with a classification target\n",
    "mpg_class = pd.read_csv('data/auto-mpg-classification.csv')"
   ]
  },
  {
   "cell_type": "code",
   "execution_count": 12,
   "metadata": {},
   "outputs": [
    {
     "data": {
      "text/html": [
       "<div>\n",
       "<style scoped>\n",
       "    .dataframe tbody tr th:only-of-type {\n",
       "        vertical-align: middle;\n",
       "    }\n",
       "\n",
       "    .dataframe tbody tr th {\n",
       "        vertical-align: top;\n",
       "    }\n",
       "\n",
       "    .dataframe thead th {\n",
       "        text-align: right;\n",
       "    }\n",
       "</style>\n",
       "<table border=\"1\" class=\"dataframe\">\n",
       "  <thead>\n",
       "    <tr style=\"text-align: right;\">\n",
       "      <th></th>\n",
       "      <th>cylinders</th>\n",
       "      <th>displacement</th>\n",
       "      <th>horsepower</th>\n",
       "      <th>weight</th>\n",
       "      <th>acceleration</th>\n",
       "      <th>model year</th>\n",
       "      <th>origin</th>\n",
       "      <th>target</th>\n",
       "    </tr>\n",
       "  </thead>\n",
       "  <tbody>\n",
       "    <tr>\n",
       "      <th>0</th>\n",
       "      <td>8</td>\n",
       "      <td>307.0</td>\n",
       "      <td>130</td>\n",
       "      <td>3504</td>\n",
       "      <td>12.0</td>\n",
       "      <td>70</td>\n",
       "      <td>1</td>\n",
       "      <td>0</td>\n",
       "    </tr>\n",
       "    <tr>\n",
       "      <th>1</th>\n",
       "      <td>8</td>\n",
       "      <td>350.0</td>\n",
       "      <td>165</td>\n",
       "      <td>3693</td>\n",
       "      <td>11.5</td>\n",
       "      <td>70</td>\n",
       "      <td>1</td>\n",
       "      <td>1</td>\n",
       "    </tr>\n",
       "    <tr>\n",
       "      <th>2</th>\n",
       "      <td>8</td>\n",
       "      <td>318.0</td>\n",
       "      <td>150</td>\n",
       "      <td>3436</td>\n",
       "      <td>11.0</td>\n",
       "      <td>70</td>\n",
       "      <td>1</td>\n",
       "      <td>0</td>\n",
       "    </tr>\n",
       "    <tr>\n",
       "      <th>3</th>\n",
       "      <td>8</td>\n",
       "      <td>304.0</td>\n",
       "      <td>150</td>\n",
       "      <td>3433</td>\n",
       "      <td>12.0</td>\n",
       "      <td>70</td>\n",
       "      <td>1</td>\n",
       "      <td>1</td>\n",
       "    </tr>\n",
       "    <tr>\n",
       "      <th>4</th>\n",
       "      <td>8</td>\n",
       "      <td>302.0</td>\n",
       "      <td>140</td>\n",
       "      <td>3449</td>\n",
       "      <td>10.5</td>\n",
       "      <td>70</td>\n",
       "      <td>1</td>\n",
       "      <td>1</td>\n",
       "    </tr>\n",
       "  </tbody>\n",
       "</table>\n",
       "</div>"
      ],
      "text/plain": [
       "   cylinders  displacement  horsepower  weight  acceleration  model year  \\\n",
       "0          8         307.0         130    3504          12.0          70   \n",
       "1          8         350.0         165    3693          11.5          70   \n",
       "2          8         318.0         150    3436          11.0          70   \n",
       "3          8         304.0         150    3433          12.0          70   \n",
       "4          8         302.0         140    3449          10.5          70   \n",
       "\n",
       "   origin  target  \n",
       "0       1       0  \n",
       "1       1       1  \n",
       "2       1       0  \n",
       "3       1       1  \n",
       "4       1       1  "
      ]
     },
     "execution_count": 12,
     "metadata": {},
     "output_type": "execute_result"
    }
   ],
   "source": [
    "# Check this new dataframe out\n",
    "mpg_class.head()"
   ]
  },
  {
   "cell_type": "markdown",
   "metadata": {},
   "source": [
    "### 6) Prepare our data for modeling:\n",
    "\n",
    "1. Perform a train/test split\n",
    "2. Scale the inputs\n"
   ]
  },
  {
   "cell_type": "code",
   "execution_count": 13,
   "metadata": {},
   "outputs": [],
   "source": [
    "# call_on_students(1)"
   ]
  },
  {
   "cell_type": "code",
   "execution_count": 14,
   "metadata": {},
   "outputs": [],
   "source": [
    "# Train-test split\n",
    "# Set test_size=0.33 and random_state=42\n",
    "\n",
    "X = mpg_class.drop(\"target\", axis = 1)\n",
    "y = mpg_class.target\n",
    "\n",
    "X_train, X_test, y_train, y_test = train_test_split(X,\n",
    "                                                   y,\n",
    "                                                   random_state = 42, \n",
    "                                                   test_size = .33)\n"
   ]
  },
  {
   "cell_type": "code",
   "execution_count": 15,
   "metadata": {},
   "outputs": [],
   "source": [
    "# Scale the data\n",
    "scaler = StandardScaler()\n",
    "\n",
    "scaler.fit(X_train)\n",
    "\n",
    "X_train_scaled = scaler.transform(X_train)\n",
    "X_test_scaled = scaler.transform(X_test)"
   ]
  },
  {
   "cell_type": "markdown",
   "metadata": {},
   "source": [
    "### 7) Explore the `target` column and our model-less baseline\n",
    "\n",
    "1. What is the breakdown of the `target` column in our training data?\n",
    "2. What would a model-less baseline look like in this context?\n",
    "3. How accurate would that model-less understanding be on our test data?"
   ]
  },
  {
   "cell_type": "code",
   "execution_count": 16,
   "metadata": {},
   "outputs": [],
   "source": [
    "# call_on_students(1)"
   ]
  },
  {
   "cell_type": "markdown",
   "metadata": {},
   "source": [
    "#### Part 1: explore the target column breakdown in train data"
   ]
  },
  {
   "cell_type": "code",
   "execution_count": 17,
   "metadata": {},
   "outputs": [
    {
     "data": {
      "text/plain": [
       "0    195\n",
       "1     67\n",
       "Name: target, dtype: int64"
      ]
     },
     "execution_count": 17,
     "metadata": {},
     "output_type": "execute_result"
    }
   ],
   "source": [
    "y_train.value_counts()"
   ]
  },
  {
   "cell_type": "code",
   "execution_count": 18,
   "metadata": {},
   "outputs": [
    {
     "data": {
      "text/plain": [
       "0    0.744275\n",
       "1    0.255725\n",
       "Name: target, dtype: float64"
      ]
     },
     "execution_count": 18,
     "metadata": {},
     "output_type": "execute_result"
    }
   ],
   "source": [
    "# Code to explore\n",
    "y_train.value_counts(normalize = True)"
   ]
  },
  {
   "cell_type": "markdown",
   "metadata": {},
   "source": [
    "#### Answer:\n",
    "\n",
    "- Imbalanced data where 74.4% of training data is class zero\n"
   ]
  },
  {
   "cell_type": "markdown",
   "metadata": {},
   "source": [
    "#### Part 2: What would a model-less baseline look like in this context?\n",
    "\n",
    "#### Answer:\n",
    "\n",
    "- It predict only class 0\n"
   ]
  },
  {
   "cell_type": "markdown",
   "metadata": {},
   "source": [
    "#### Part 3: How accurate would that baseline be on test data?\n"
   ]
  },
  {
   "cell_type": "code",
   "execution_count": 19,
   "metadata": {
    "scrolled": true
   },
   "outputs": [
    {
     "data": {
      "text/plain": [
       "0    0.753846\n",
       "1    0.246154\n",
       "Name: target, dtype: float64"
      ]
     },
     "execution_count": 19,
     "metadata": {},
     "output_type": "execute_result"
    }
   ],
   "source": [
    "# Code to find the answer\n",
    "y_test.value_counts(normalize = True)"
   ]
  },
  {
   "cell_type": "markdown",
   "metadata": {},
   "source": [
    "#### Answer:\n",
    "\n",
    "- 75.3% accurate on test data\n"
   ]
  },
  {
   "cell_type": "markdown",
   "metadata": {},
   "source": [
    "### 8) What is one problem you could foresee based on this breakdown, and what is one strategy you could employ to address that problem?"
   ]
  },
  {
   "cell_type": "code",
   "execution_count": 20,
   "metadata": {},
   "outputs": [],
   "source": [
    "# call_on_students(1)"
   ]
  },
  {
   "cell_type": "markdown",
   "metadata": {},
   "source": [
    "#### Answer:\n",
    "\n",
    "- Imbalance data set could skew data and cause prediction errors\n",
    "- Oversampling, SMOTE\n",
    "- undersampling doesn't make sense here, since our dataset is so small\n"
   ]
  },
  {
   "cell_type": "markdown",
   "metadata": {},
   "source": [
    "### 9) Fit a logistic regression model, and plot a confusion matrix of the results on our test set"
   ]
  },
  {
   "cell_type": "code",
   "execution_count": 21,
   "metadata": {},
   "outputs": [],
   "source": [
    "# call_on_students(1)"
   ]
  },
  {
   "cell_type": "code",
   "execution_count": 22,
   "metadata": {},
   "outputs": [
    {
     "data": {
      "text/plain": [
       "LogisticRegression(random_state=42)"
      ]
     },
     "execution_count": 22,
     "metadata": {},
     "output_type": "execute_result"
    }
   ],
   "source": [
    "# Fit a logistic regression model\n",
    "# Name the model `logreg` and set random_state = 42\n",
    "logreg = LogisticRegression(random_state = 42)\n",
    "\n",
    "logreg.fit(X_train_scaled, y_train)"
   ]
  },
  {
   "cell_type": "code",
   "execution_count": 23,
   "metadata": {},
   "outputs": [
    {
     "data": {
      "image/png": "[encoded data removed]",
      "text/plain": [
       "<Figure size 432x288 with 2 Axes>"
      ]
     },
     "metadata": {
      "needs_background": "light"
     },
     "output_type": "display_data"
    }
   ],
   "source": [
    "# Plot a confusion matrix on the test data\n",
    "plot_confusion_matrix(logreg, X_test_scaled, y_test);"
   ]
  },
  {
   "cell_type": "markdown",
   "metadata": {},
   "source": [
    "### 10) Calculate the accuracy, precision, recall and f1-score for the test set\n",
    "\n",
    "You can use the confusion matrix above, or sklearn functions"
   ]
  },
  {
   "cell_type": "code",
   "execution_count": 24,
   "metadata": {},
   "outputs": [],
   "source": [
    "# call_on_students(1)"
   ]
  },
  {
   "cell_type": "code",
   "execution_count": 25,
   "metadata": {},
   "outputs": [],
   "source": [
    "y_preds = logreg.predict((X_test_scaled))"
   ]
  },
  {
   "cell_type": "code",
   "execution_count": 26,
   "metadata": {},
   "outputs": [
    {
     "data": {
      "text/plain": [
       "0.9230769230769231"
      ]
     },
     "execution_count": 26,
     "metadata": {},
     "output_type": "execute_result"
    }
   ],
   "source": [
    "# Accuracy\n",
    "accuracy = accuracy_score(y_test, y_preds)\n",
    "accuracy"
   ]
  },
  {
   "cell_type": "code",
   "execution_count": 27,
   "metadata": {},
   "outputs": [
    {
     "data": {
      "text/plain": [
       "0.9583333333333334"
      ]
     },
     "execution_count": 27,
     "metadata": {},
     "output_type": "execute_result"
    }
   ],
   "source": [
    "# Precision\n",
    "precision = precision_score(y_test, y_preds)\n",
    "precision"
   ]
  },
  {
   "cell_type": "code",
   "execution_count": 28,
   "metadata": {},
   "outputs": [
    {
     "data": {
      "text/plain": [
       "0.71875"
      ]
     },
     "execution_count": 28,
     "metadata": {},
     "output_type": "execute_result"
    }
   ],
   "source": [
    "# Recall\n",
    "recall = recall_score(y_test, y_preds)\n",
    "recall"
   ]
  },
  {
   "cell_type": "code",
   "execution_count": 29,
   "metadata": {},
   "outputs": [
    {
     "data": {
      "text/plain": [
       "0.8214285714285714"
      ]
     },
     "execution_count": 29,
     "metadata": {},
     "output_type": "execute_result"
    }
   ],
   "source": [
    "# F1-Score\n",
    "f1_score = f1_score(y_test, y_preds)\n",
    "f1_score"
   ]
  },
  {
   "cell_type": "markdown",
   "metadata": {},
   "source": [
    "### 11) Calculate the ROC-AUC on the test set, and plot the ROC curve\n",
    "\n",
    "For this you'll definitely want to use the sklearn functions!"
   ]
  },
  {
   "cell_type": "code",
   "execution_count": 30,
   "metadata": {},
   "outputs": [],
   "source": [
    "# call_on_students(1)"
   ]
  },
  {
   "cell_type": "code",
   "execution_count": 31,
   "metadata": {},
   "outputs": [
    {
     "data": {
      "text/plain": [
       "0.9811862244897959"
      ]
     },
     "execution_count": 31,
     "metadata": {},
     "output_type": "execute_result"
    }
   ],
   "source": [
    "# Calculate roc-auc\n",
    "y_prob = logreg.predict_proba(X_test_scaled)[:,1]\n",
    "\n",
    "roc_auc_score(y_test, y_prob)"
   ]
  },
  {
   "cell_type": "code",
   "execution_count": 45,
   "metadata": {},
   "outputs": [
    {
     "data": {
      "text/plain": [
       "array([-0.98222121, -0.743818  , -1.02990185, -1.02990185, -0.56263157,\n",
       "       -0.97268508,  1.91676177, -0.97268508,  0.24793933, -1.2492328 ,\n",
       "        1.82140049, -0.41005351,  1.43995536, -0.97268508, -0.34330062,\n",
       "       -0.82964316, -0.00953613, -0.86778767, -0.743818  , -0.73428187,\n",
       "       -0.00953613, -0.97268508, -1.02990185,  1.02990185, -1.14433539,\n",
       "       -0.96314895, -0.75335413,  0.24793933, -0.97268508, -0.743818  ,\n",
       "        1.43995536,  0.31469223,  0.64845672, -0.75335413,  1.91676177,\n",
       "       -1.02990185,  0.98222121, -0.96791702,  0.98222121,  1.53531665,\n",
       "        1.02990185, -1.03943798, -0.89639605, -0.97268508,  1.44949149,\n",
       "        2.2982069 ,  0.48634254, -1.02990185, -0.56263157, -1.03943798,\n",
       "        1.44949149, -0.82010703, -0.56263157, -0.75335413,  0.31469223,\n",
       "        0.56263157,  0.60077608,  0.31469223, -0.90593218, -0.82010703,\n",
       "        2.44124883,  0.31469223, -0.24793933, -0.75335413, -0.61984834,\n",
       "       -0.79149864, -0.56263157, -1.03943798,  0.58170382,  2.19330949,\n",
       "       -0.56263157,  1.43995536, -0.5054148 , -1.23016054,  0.24793933,\n",
       "       -0.96314895,  1.43995536,  1.00129346, -0.97268508,  0.24793933,\n",
       "       -0.56263157, -0.26701159,  1.13479926, -1.07758249,  1.91676177,\n",
       "       -1.04897411, -0.17165031,  0.3051561 ,  0.58170382,  0.48634254,\n",
       "       -0.56263157, -0.51495092, -0.97268508, -0.82964316,  0.3051561 ,\n",
       "       -0.29561998, -0.743818  ,  1.53531665, -0.61984834,  0.        ,\n",
       "        2.19330949,  0.3051561 ,  2.2982069 , -0.97268508, -0.89639605,\n",
       "       -0.96314895, -1.12526313, -0.8105709 , -0.743818  ,  1.13479926,\n",
       "       -1.02990185, -1.04897411, -0.73428187, -0.73428187, -1.07758249,\n",
       "       -0.76289026,  1.13479926,  0.48634254, -0.86778767,  0.00953613,\n",
       "       -0.76289026,  0.        ,  0.48634254, -1.02990185, -0.80103477,\n",
       "       -0.45773416, -1.08711862, -0.97268508,  0.48634254, -0.89639605])"
      ]
     },
     "execution_count": 45,
     "metadata": {},
     "output_type": "execute_result"
    }
   ],
   "source": [
    "X_test_scaled[:,1]"
   ]
  },
  {
   "cell_type": "code",
   "execution_count": 47,
   "metadata": {},
   "outputs": [
    {
     "data": {
      "text/plain": [
       "array([[-0.88631438, -0.98222121, -0.96077631, -0.96612552,  0.88504267,\n",
       "        -1.15108625,  0.54542507],\n",
       "       [-0.88631438, -0.743818  ,  0.23505929, -0.24973099,  0.08087091,\n",
       "         0.5120641 ,  0.54542507],\n",
       "       [-0.88631438, -1.02990185, -1.19474415, -1.42598933,  0.32561883,\n",
       "         0.5120641 ,  1.77733341],\n",
       "       [-0.88631438, -1.02990185, -0.93477988, -1.24275311,  1.7591424 ,\n",
       "        -1.42827797, -0.68648327],\n",
       "       [-0.88631438, -0.56263157, -0.51883707, -0.25564183,  0.04590692,\n",
       "         1.620831  , -0.68648327],\n",
       "       [-0.88631438, -0.97268508, -0.80479775, -1.00631927,  0.32561883,\n",
       "        -0.04231935,  1.77733341],\n",
       "       [ 1.42427634,  1.91676177,  1.66486272,  2.05668111, -1.21279671,\n",
       "        -1.42827797, -0.68648327],\n",
       "       [-0.88631438, -0.97268508, -0.80479775, -0.87628066,  0.95497065,\n",
       "         0.23487238,  1.77733341],\n",
       "       [ 0.26898098,  0.24793933, -0.28486923,  0.30470637,  0.18576288,\n",
       "        -0.31951107, -0.68648327],\n",
       "       [-0.88631438, -1.2492328 , -1.48070483, -1.346784  ,  1.40950251,\n",
       "        -0.87389452,  0.54542507],\n",
       "       [ 1.42427634,  1.82140049,  2.18479124,  0.99745751, -2.43653634,\n",
       "        -1.7054697 , -0.68648327],\n",
       "       [ 0.26898098, -0.41005351,  0.05308431, -0.09013814,  0.01094293,\n",
       "        -0.04231935,  1.77733341],\n",
       "       [ 1.42427634,  1.43995536,  1.27491633,  1.6003638 , -0.19884101,\n",
       "         0.78925583, -0.68648327],\n",
       "       [-0.88631438, -0.97268508, -0.80479775, -0.98740456,  0.18576288,\n",
       "        -0.31951107,  1.77733341],\n",
       "       [ 0.26898098, -0.34330062,  0.70299496,  0.47730307,  0.1158349 ,\n",
       "         0.5120641 ,  0.54542507],\n",
       "       [-0.88631438, -0.82964316, -0.46684422, -0.47434313,  1.4444665 ,\n",
       "         1.620831  , -0.68648327],\n",
       "       [ 0.26898098, -0.00953613, -0.28486923,  0.11319496,  0.36058282,\n",
       "        -0.5967028 , -0.68648327],\n",
       "       [-0.88631438, -0.86778767, -0.80479775, -0.77579628,  0.46547479,\n",
       "         1.34363928,  1.77733341],\n",
       "       [-0.88631438, -0.743818  , -0.67481562, -0.39750214, -0.16387702,\n",
       "         0.78925583, -0.68648327],\n",
       "       [-0.88631438, -0.73428187, -0.46684422, -0.5984709 , -0.12891303,\n",
       "         1.06644755,  0.54542507],\n",
       "       [ 0.26898098, -0.00953613, -0.28486923, -0.20480856,  0.01094293,\n",
       "        -1.7054697 , -0.68648327],\n",
       "       [-0.88631438, -0.97268508, -1.40271555, -1.0358735 ,  3.19266597,\n",
       "         1.620831  ,  0.54542507],\n",
       "       [-0.88631438, -1.02990185, -0.98677274, -1.20728803,  0.18576288,\n",
       "         1.34363928,  1.77733341],\n",
       "       [ 1.42427634,  1.02990185,  0.62500568,  0.58842697, -1.21279671,\n",
       "        -1.7054697 , -0.68648327],\n",
       "       [-0.88631438, -1.14433539, -1.01276916, -1.23329575,  0.01094293,\n",
       "        -0.5967028 ,  0.54542507],\n",
       "       [-0.88631438, -0.96314895, -0.41485136, -0.87628066,  0.01094293,\n",
       "        -0.87389452,  0.54542507],\n",
       "       [-0.88631438, -0.75335413, -0.49284064, -0.03221185,  1.40950251,\n",
       "        -1.15108625,  0.54542507],\n",
       "       [ 0.26898098,  0.24793933, -0.02490497,  0.51158597,  0.01094293,\n",
       "        -1.42827797, -0.68648327],\n",
       "       [-0.88631438, -0.97268508, -1.55869411, -1.24866395,  1.93396235,\n",
       "        -0.87389452,  0.54542507],\n",
       "       [-0.88631438, -0.743818  , -0.77880133, -0.58546704,  0.88504267,\n",
       "        -1.15108625,  0.54542507],\n",
       "       [ 1.42427634,  1.43995536,  1.01495207,  1.69493734, -0.51351691,\n",
       "        -0.31951107, -0.68648327],\n",
       "       [ 0.26898098,  0.31469223, -0.41485136,  0.24086923,  0.60533075,\n",
       "         0.5120641 , -0.68648327],\n",
       "       [ 1.42427634,  0.64845672,  0.49502355,  0.70782606, -0.16387702,\n",
       "         0.78925583, -0.68648327],\n",
       "       [-0.88631438, -0.75335413, -0.83079418, -0.43887806,  0.98993463,\n",
       "         1.34363928,  1.77733341],\n",
       "       [ 1.42427634,  1.91676177,  1.1449342 ,  1.7233094 , -1.21279671,\n",
       "        -0.87389452, -0.68648327],\n",
       "       [-0.88631438, -1.02990185, -1.01276916, -1.19546634,  0.25569085,\n",
       "         1.620831  ,  1.77733341],\n",
       "       [ 1.42427634,  0.98222121,  0.88496994,  1.92900684,  0.18576288,\n",
       "        -0.5967028 , -0.68648327],\n",
       "       [-0.88631438, -0.96791702, -0.67481562, -1.04060218,  0.53540277,\n",
       "        -1.15108625, -0.68648327],\n",
       "       [ 1.42427634,  0.98222121,  0.88496994,  1.52234063,  0.18576288,\n",
       "        -1.15108625, -0.68648327],\n",
       "       [ 1.42427634,  1.53531665,  2.83470189,  1.90181695, -0.51351691,\n",
       "        -1.7054697 , -0.68648327],\n",
       "       [ 1.42427634,  1.02990185,  0.62500568,  1.29063547, -0.51351691,\n",
       "        -1.15108625, -0.68648327],\n",
       "       [-0.88631438, -1.03943798, -0.80479775, -1.06188122,  0.01094293,\n",
       "        -0.5967028 ,  0.54542507],\n",
       "       [-0.88631438, -0.89639605, -0.83079418, -1.21319888, -0.05898505,\n",
       "         1.620831  ,  0.54542507],\n",
       "       [-0.88631438, -0.97268508, -0.72680848, -0.83490474, -0.33869697,\n",
       "        -0.5967028 ,  0.54542507],\n",
       "       [ 1.42427634,  1.44949149,  1.09294135,  1.95146805, -0.68833686,\n",
       "        -0.31951107, -0.68648327],\n",
       "       [ 1.42427634,  2.2982069 ,  2.83470189,  2.04367725, -1.5624366 ,\n",
       "        -0.87389452, -0.68648327],\n",
       "       [ 0.26898098,  0.48634254, -0.1548871 ,  0.32598541, -0.16387702,\n",
       "        -1.42827797, -0.68648327],\n",
       "       [-0.88631438, -1.02990185, -0.96077631, -1.0358735 , -0.26876899,\n",
       "         0.78925583,  0.54542507],\n",
       "       [-0.88631438, -0.56263157, -0.88278703, -0.71550565,  1.40950251,\n",
       "        -0.87389452, -0.68648327],\n",
       "       [-0.88631438, -1.03943798, -0.93477988, -1.26403215, -0.44358894,\n",
       "        -0.04231935,  0.54542507],\n",
       "       [ 1.42427634,  1.44949149,  1.22292348,  1.35683695, -0.68833686,\n",
       "        -1.42827797, -0.68648327],\n",
       "       [-0.88631438, -0.82010703, -0.28486923, -0.86091246,  0.01094293,\n",
       "        -1.15108625,  1.77733341],\n",
       "       [-0.88631438, -0.56263157, -0.41485136, -0.87746283,  0.01094293,\n",
       "        -1.42827797, -0.68648327],\n",
       "       [-0.88631438, -0.75335413, -0.46684422, -1.00040842, -0.33869697,\n",
       "         1.620831  ,  1.77733341],\n",
       "       [ 0.26898098,  0.31469223,  0.15707001, -0.20244422, -0.26876899,\n",
       "         1.620831  , -0.68648327],\n",
       "       [ 0.26898098,  0.56263157,  0.10507716,  0.73974463,  0.88504267,\n",
       "        -0.5967028 , -0.68648327],\n",
       "       [ 1.42427634,  0.60077608,  0.10507716,  0.25387309, -0.68833686,\n",
       "        -0.31951107, -0.68648327],\n",
       "       [ 0.26898098,  0.31469223, -0.1548871 , -0.10905285,  0.18576288,\n",
       "        -0.31951107, -0.68648327],\n",
       "       [-0.88631438, -0.90593218, -0.28486923, -0.74624205,  0.71022272,\n",
       "        -1.7054697 ,  0.54542507],\n",
       "       [-0.88631438, -0.82010703, -0.28486923, -0.92002092, -0.51351691,\n",
       "        -1.42827797,  1.77733341],\n",
       "       [ 1.42427634,  2.44124883,  3.09466615,  2.29902579, -1.5624366 ,\n",
       "        -0.87389452, -0.68648327],\n",
       "       [ 0.26898098,  0.31469223, -0.41485136,  0.09309808,  0.74518671,\n",
       "        -0.04231935, -0.68648327],\n",
       "       [ 0.26898098, -0.24793933,  0.23505929, -0.36203706, -0.8981208 ,\n",
       "         0.78925583, -0.68648327],\n",
       "       [-0.88631438, -0.75335413, -0.46684422, -0.05821958,  0.53540277,\n",
       "        -0.31951107,  0.54542507],\n",
       "       [-0.88631438, -0.61984834, -0.28486923, -0.58073836, -0.233805  ,\n",
       "         0.5120641 ,  1.77733341],\n",
       "       [-0.88631438, -0.79149864, -0.6488192 , -0.92947827,  0.50043878,\n",
       "        -0.04231935,  0.54542507],\n",
       "       [-0.88631438, -0.56263157, -0.46684422, -0.33839368, -0.02402106,\n",
       "         0.5120641 , -0.68648327],\n",
       "       [-0.88631438, -1.03943798, -0.93477988, -1.26403215, -0.51351691,\n",
       "        -0.31951107,  0.54542507],\n",
       "       [ 1.42427634,  0.58170382,  0.10507716,  0.42410545,  0.01094293,\n",
       "         0.5120641 , -0.68648327],\n",
       "       [ 1.42427634,  2.19330949,  2.39276265,  1.57790259, -1.9120765 ,\n",
       "        -1.7054697 , -0.68648327],\n",
       "       [-0.88631438, -0.56263157, -0.88278703, -0.70723046,  1.23468256,\n",
       "        -1.42827797, -0.68648327],\n",
       "       [ 1.42427634,  1.43995536,  1.79484485,  1.29299981, -0.86315681,\n",
       "        -0.87389452, -0.68648327],\n",
       "       [ 0.26898098, -0.5054148 , -0.23287638, -0.2260876 , -0.33869697,\n",
       "         0.23487238,  1.77733341],\n",
       "       [-1.46396206, -1.23016054, -0.41485136, -1.04296651, -0.68833686,\n",
       "        -0.87389452,  1.77733341],\n",
       "       [ 0.26898098,  0.24793933, -0.54483349,  0.54232237,  0.39554681,\n",
       "         1.34363928, -0.68648327],\n",
       "       [-0.88631438, -0.96314895, -0.67481562, -0.99567975, -0.16387702,\n",
       "        -1.15108625, -0.68648327],\n",
       "       [ 1.42427634,  1.43995536,  1.01495207,  1.27172077, -0.86315681,\n",
       "        -0.87389452, -0.68648327],\n",
       "       [ 1.42427634,  1.00129346,  1.1449342 ,  0.50449296, -1.21279671,\n",
       "        -1.7054697 , -0.68648327],\n",
       "       [-0.88631438, -0.97268508, -0.46684422, -1.0358735 , -0.33869697,\n",
       "        -1.7054697 ,  1.77733341],\n",
       "       [ 0.26898098,  0.24793933,  0.10507716,  0.7255586 ,  1.12979059,\n",
       "         0.5120641 , -0.68648327],\n",
       "       [-0.88631438, -0.56263157, -0.36285851, -0.51335472, -0.19884101,\n",
       "        -0.04231935, -0.68648327],\n",
       "       [ 0.26898098, -0.26701159, -0.23287638, -0.02630101, -0.33869697,\n",
       "        -0.31951107, -0.68648327],\n",
       "       [ 1.42427634,  1.13479926,  1.1449342 ,  1.33437573, -0.68833686,\n",
       "        -1.15108625, -0.68648327],\n",
       "       [-0.88631438, -1.07758249, -1.09075844, -1.33732664,  0.32561883,\n",
       "         1.34363928, -0.68648327],\n",
       "       [ 1.42427634,  1.91676177,  2.18479124,  1.55898788, -1.14286873,\n",
       "         0.23487238, -0.68648327],\n",
       "       [-0.88631438, -1.04897411, -1.14275129, -1.37279172, -0.05898505,\n",
       "         1.06644755,  0.54542507],\n",
       "       [ 0.26898098, -0.17165031,  0.10507716, -0.07240561,  0.32561883,\n",
       "         1.620831  , -0.68648327],\n",
       "       [ 0.26898098,  0.3051561 ,  0.23505929,  0.28224515, -0.02402106,\n",
       "         0.78925583, -0.68648327],\n",
       "       [ 1.42427634,  0.58170382,  0.10507716,  1.24571304,  1.23468256,\n",
       "         0.23487238, -0.68648327],\n",
       "       [ 0.26898098,  0.48634254, -0.1548871 ,  0.91588784,  0.53540277,\n",
       "        -0.5967028 , -0.68648327],\n",
       "       [-0.88631438, -0.56263157, -0.46684422, -0.13742491,  0.64029474,\n",
       "         0.78925583, -0.68648327],\n",
       "       [ 0.26898098, -0.51495092, -0.77880133,  0.18176077,  1.4444665 ,\n",
       "         1.34363928,  0.54542507],\n",
       "       [-0.88631438, -0.97268508, -1.01276916, -1.20728803,  0.32561883,\n",
       "         0.23487238,  1.77733341],\n",
       "       [-0.88631438, -0.82964316, -0.54483349, -0.50980821,  0.25569085,\n",
       "         1.620831  , -0.68648327],\n",
       "       [ 0.26898098,  0.3051561 , -0.02490497,  0.62507422,  1.30461054,\n",
       "         0.5120641 , -0.68648327],\n",
       "       [ 0.26898098, -0.29561998,  0.36504142,  0.96199244,  0.4305108 ,\n",
       "        -0.04231935,  0.54542507],\n",
       "       [-0.88631438, -0.743818  ,  0.15707001, -0.08659164, -0.33869697,\n",
       "        -1.15108625,  0.54542507],\n",
       "       [ 1.42427634,  1.53531665,  1.66486272,  1.94792154, -0.86315681,\n",
       "        -0.87389452, -0.68648327],\n",
       "       [-0.88631438, -0.61984834, -0.28486923, -0.52754075, -0.44358894,\n",
       "         0.5120641 ,  1.77733341],\n",
       "       [ 0.26898098,  0.        , -0.23287638, -0.27455654,  0.01094293,\n",
       "        -1.7054697 , -0.68648327],\n",
       "       [ 1.42427634,  2.19330949,  2.65272691,  1.92309599, -1.5624366 ,\n",
       "        -1.15108625, -0.68648327],\n",
       "       [ 0.26898098,  0.3051561 ,  0.10507716,  1.06484116,  1.93396235,\n",
       "        -0.31951107, -0.68648327],\n",
       "       [ 1.42427634,  2.2982069 ,  2.83470189,  1.54361968, -2.43653634,\n",
       "        -1.7054697 , -0.68648327],\n",
       "       [-0.88631438, -0.97268508, -1.55869411, -1.38461341,  1.7591424 ,\n",
       "        -1.7054697 ,  0.54542507],\n",
       "       [-0.88631438, -0.89639605, -0.93477988, -0.95312166, -0.79322883,\n",
       "         0.78925583, -0.68648327],\n",
       "       [-0.88631438, -0.96314895, -1.06476201, -1.13635788,  0.25569085,\n",
       "         1.34363928, -0.68648327],\n",
       "       [-0.88631438, -1.12526313, -1.19474415, -1.4732761 ,  0.22072687,\n",
       "         1.34363928,  1.77733341],\n",
       "       [-0.88631438, -0.8105709 , -0.38885494, -0.50153302, -0.51351691,\n",
       "        -0.87389452,  0.54542507],\n",
       "       [-0.88631438, -0.743818  , -0.20687996, -0.07240561, -0.33869697,\n",
       "        -0.31951107,  0.54542507],\n",
       "       [ 1.42427634,  1.13479926,  0.75498781,  0.97381413, -0.09394904,\n",
       "         0.78925583, -0.68648327],\n",
       "       [-0.88631438, -1.02990185, -1.01276916, -1.23093142,  0.08087091,\n",
       "         1.620831  ,  1.77733341],\n",
       "       [-0.88631438, -1.04897411, -0.90878346, -1.27821818, -0.51351691,\n",
       "         0.78925583,  0.54542507],\n",
       "       [-0.88631438, -0.73428187, -0.51883707, -0.92238526,  0.36058282,\n",
       "        -1.15108625, -0.68648327],\n",
       "       [-0.88631438, -0.73428187, -0.51883707, -0.72259866,  0.18576288,\n",
       "        -1.15108625, -0.68648327],\n",
       "       [-0.88631438, -1.07758249, -1.06476201, -1.16709428,  0.32561883,\n",
       "         1.06644755,  1.77733341],\n",
       "       [-0.88631438, -0.76289026, -0.1548871 , -0.46252144, -0.233805  ,\n",
       "         1.34363928,  1.77733341],\n",
       "       [ 1.42427634,  1.13479926,  0.88496994,  0.86150806, -0.79322883,\n",
       "         0.5120641 , -0.68648327],\n",
       "       [ 0.26898098,  0.48634254, -0.88278703,  0.17939643,  1.40950251,\n",
       "        -0.31951107, -0.68648327],\n",
       "       [-0.88631438, -0.86778767, -0.31086566, -0.74151337,  0.36058282,\n",
       "        -0.87389452,  1.77733341],\n",
       "       [ 0.26898098,  0.00953613, -0.54483349, -0.49562218,  0.18576288,\n",
       "        -1.7054697 , -0.68648327],\n",
       "       [-0.88631438, -0.76289026, -0.36285851, -0.67649406, -0.16387702,\n",
       "         1.06644755,  1.77733341],\n",
       "       [ 0.26898098,  0.        , -0.41485136, -0.42350986, -0.16387702,\n",
       "        -1.7054697 , -0.68648327],\n",
       "       [ 0.26898098,  0.48634254, -0.1548871 ,  0.38982255,  0.53540277,\n",
       "        -0.5967028 , -0.68648327],\n",
       "       [-0.88631438, -1.02990185, -0.98677274, -1.22502057,  0.74518671,\n",
       "         1.620831  ,  1.77733341],\n",
       "       [-0.88631438, -0.80103477, -0.28486923, -0.36913007, -0.16387702,\n",
       "        -0.31951107,  0.54542507],\n",
       "       [-0.88631438, -0.45773416, -0.46684422, -0.31475029,  0.18576288,\n",
       "         0.23487238, -0.68648327],\n",
       "       [-0.88631438, -1.08711862, -1.40271555, -1.14817957,  2.35353023,\n",
       "        -0.04231935, -0.68648327],\n",
       "       [-0.88631438, -0.97268508, -0.72680848, -0.96494335, -0.47855293,\n",
       "         0.23487238,  0.54542507],\n",
       "       [ 0.26898098,  0.48634254, -0.88278703,  0.50331079,  1.93396235,\n",
       "        -0.31951107, -0.68648327],\n",
       "       [-0.88631438, -0.89639605, -1.11675487, -0.93538912, -0.19884101,\n",
       "         1.34363928, -0.68648327]])"
      ]
     },
     "execution_count": 47,
     "metadata": {},
     "output_type": "execute_result"
    }
   ],
   "source": [
    "X_test_scaled"
   ]
  },
  {
   "cell_type": "code",
   "execution_count": 46,
   "metadata": {},
   "outputs": [
    {
     "data": {
      "text/html": [
       "<div>\n",
       "<style scoped>\n",
       "    .dataframe tbody tr th:only-of-type {\n",
       "        vertical-align: middle;\n",
       "    }\n",
       "\n",
       "    .dataframe tbody tr th {\n",
       "        vertical-align: top;\n",
       "    }\n",
       "\n",
       "    .dataframe thead th {\n",
       "        text-align: right;\n",
       "    }\n",
       "</style>\n",
       "<table border=\"1\" class=\"dataframe\">\n",
       "  <thead>\n",
       "    <tr style=\"text-align: right;\">\n",
       "      <th></th>\n",
       "      <th>cylinders</th>\n",
       "      <th>displacement</th>\n",
       "      <th>horsepower</th>\n",
       "      <th>weight</th>\n",
       "      <th>acceleration</th>\n",
       "      <th>model year</th>\n",
       "      <th>origin</th>\n",
       "    </tr>\n",
       "  </thead>\n",
       "  <tbody>\n",
       "    <tr>\n",
       "      <th>78</th>\n",
       "      <td>4</td>\n",
       "      <td>96.0</td>\n",
       "      <td>69</td>\n",
       "      <td>2189</td>\n",
       "      <td>18.0</td>\n",
       "      <td>72</td>\n",
       "      <td>2</td>\n",
       "    </tr>\n",
       "    <tr>\n",
       "      <th>274</th>\n",
       "      <td>4</td>\n",
       "      <td>121.0</td>\n",
       "      <td>115</td>\n",
       "      <td>2795</td>\n",
       "      <td>15.7</td>\n",
       "      <td>78</td>\n",
       "      <td>2</td>\n",
       "    </tr>\n",
       "    <tr>\n",
       "      <th>246</th>\n",
       "      <td>4</td>\n",
       "      <td>91.0</td>\n",
       "      <td>60</td>\n",
       "      <td>1800</td>\n",
       "      <td>16.4</td>\n",
       "      <td>78</td>\n",
       "      <td>3</td>\n",
       "    </tr>\n",
       "    <tr>\n",
       "      <th>55</th>\n",
       "      <td>4</td>\n",
       "      <td>91.0</td>\n",
       "      <td>70</td>\n",
       "      <td>1955</td>\n",
       "      <td>20.5</td>\n",
       "      <td>71</td>\n",
       "      <td>1</td>\n",
       "    </tr>\n",
       "    <tr>\n",
       "      <th>387</th>\n",
       "      <td>4</td>\n",
       "      <td>140.0</td>\n",
       "      <td>86</td>\n",
       "      <td>2790</td>\n",
       "      <td>15.6</td>\n",
       "      <td>82</td>\n",
       "      <td>1</td>\n",
       "    </tr>\n",
       "    <tr>\n",
       "      <th>...</th>\n",
       "      <td>...</td>\n",
       "      <td>...</td>\n",
       "      <td>...</td>\n",
       "      <td>...</td>\n",
       "      <td>...</td>\n",
       "      <td>...</td>\n",
       "      <td>...</td>\n",
       "    </tr>\n",
       "    <tr>\n",
       "      <th>232</th>\n",
       "      <td>4</td>\n",
       "      <td>151.0</td>\n",
       "      <td>88</td>\n",
       "      <td>2740</td>\n",
       "      <td>16.0</td>\n",
       "      <td>77</td>\n",
       "      <td>1</td>\n",
       "    </tr>\n",
       "    <tr>\n",
       "      <th>193</th>\n",
       "      <td>4</td>\n",
       "      <td>85.0</td>\n",
       "      <td>52</td>\n",
       "      <td>2035</td>\n",
       "      <td>22.2</td>\n",
       "      <td>76</td>\n",
       "      <td>1</td>\n",
       "    </tr>\n",
       "    <tr>\n",
       "      <th>238</th>\n",
       "      <td>4</td>\n",
       "      <td>97.0</td>\n",
       "      <td>78</td>\n",
       "      <td>2190</td>\n",
       "      <td>14.1</td>\n",
       "      <td>77</td>\n",
       "      <td>2</td>\n",
       "    </tr>\n",
       "    <tr>\n",
       "      <th>152</th>\n",
       "      <td>6</td>\n",
       "      <td>250.0</td>\n",
       "      <td>72</td>\n",
       "      <td>3432</td>\n",
       "      <td>21.0</td>\n",
       "      <td>75</td>\n",
       "      <td>1</td>\n",
       "    </tr>\n",
       "    <tr>\n",
       "      <th>346</th>\n",
       "      <td>4</td>\n",
       "      <td>105.0</td>\n",
       "      <td>63</td>\n",
       "      <td>2215</td>\n",
       "      <td>14.9</td>\n",
       "      <td>81</td>\n",
       "      <td>1</td>\n",
       "    </tr>\n",
       "  </tbody>\n",
       "</table>\n",
       "<p>130 rows × 7 columns</p>\n",
       "</div>"
      ],
      "text/plain": [
       "     cylinders  displacement  horsepower  weight  acceleration  model year  \\\n",
       "78           4          96.0          69    2189          18.0          72   \n",
       "274          4         121.0         115    2795          15.7          78   \n",
       "246          4          91.0          60    1800          16.4          78   \n",
       "55           4          91.0          70    1955          20.5          71   \n",
       "387          4         140.0          86    2790          15.6          82   \n",
       "..         ...           ...         ...     ...           ...         ...   \n",
       "232          4         151.0          88    2740          16.0          77   \n",
       "193          4          85.0          52    2035          22.2          76   \n",
       "238          4          97.0          78    2190          14.1          77   \n",
       "152          6         250.0          72    3432          21.0          75   \n",
       "346          4         105.0          63    2215          14.9          81   \n",
       "\n",
       "     origin  \n",
       "78        2  \n",
       "274       2  \n",
       "246       3  \n",
       "55        1  \n",
       "387       1  \n",
       "..      ...  \n",
       "232       1  \n",
       "193       1  \n",
       "238       2  \n",
       "152       1  \n",
       "346       1  \n",
       "\n",
       "[130 rows x 7 columns]"
      ]
     },
     "execution_count": 46,
     "metadata": {},
     "output_type": "execute_result"
    }
   ],
   "source": [
    "X_test"
   ]
  },
  {
   "cell_type": "code",
   "execution_count": 32,
   "metadata": {},
   "outputs": [
    {
     "data": {
      "image/png": "[encoded data removed]",
      "text/plain": [
       "<Figure size 432x288 with 1 Axes>"
      ]
     },
     "metadata": {
      "needs_background": "light"
     },
     "output_type": "display_data"
    }
   ],
   "source": [
    "# Plot the ROC curve\n",
    "plot_roc_curve(logreg, X_test_scaled, y_test);"
   ]
  },
  {
   "cell_type": "markdown",
   "metadata": {},
   "source": [
    "### 12) Evaluate! Based on the metrics of our test data, how is our model doing?"
   ]
  },
  {
   "cell_type": "code",
   "execution_count": 33,
   "metadata": {},
   "outputs": [],
   "source": [
    "# call_on_students(1)"
   ]
  },
  {
   "cell_type": "markdown",
   "metadata": {},
   "source": [
    "#### Answer:\n",
    "\n",
    "- Our model is doing great minimum FP and FN, and precision and accuracy in the 90s and recall in the 70s\n"
   ]
  },
  {
   "cell_type": "markdown",
   "metadata": {},
   "source": [
    "## Part 4: Decision Trees\n",
    "\n",
    "### Set Up\n"
   ]
  },
  {
   "cell_type": "code",
   "execution_count": 34,
   "metadata": {},
   "outputs": [],
   "source": [
    "# Helper function from a colleague (h/t Bryan)\n",
    "def plot_tree(dt, used_cols, out_file='mytree.dot'):\n",
    "    export_graphviz(dt, out_file=out_file, \n",
    "                    filled=True, feature_names=used_cols, \n",
    "                    leaves_parallel=True, node_ids=True)\n",
    "    with open(out_file) as f:\n",
    "        dot_graph = f.read()\n",
    "    return graphviz.Source(dot_graph)"
   ]
  },
  {
   "cell_type": "code",
   "execution_count": 35,
   "metadata": {
    "scrolled": true
   },
   "outputs": [
    {
     "data": {
      "text/plain": [
       "DecisionTreeClassifier(max_depth=1, random_state=42)"
      ]
     },
     "execution_count": 35,
     "metadata": {},
     "output_type": "execute_result"
    }
   ],
   "source": [
    "# Creating two different decision trees with a single split\n",
    "dt_maxdepth1_v1 = DecisionTreeClassifier(max_depth=1, random_state = 42)\n",
    "dt_maxdepth1_v2 = DecisionTreeClassifier(max_depth=1, random_state = 42)\n",
    "\n",
    "# Training the two trees on different columns\n",
    "dt_maxdepth1_v1.fit(X_train[['weight']], y_train)\n",
    "dt_maxdepth1_v2.fit(X_train[['origin']], y_train)"
   ]
  },
  {
   "cell_type": "code",
   "execution_count": 36,
   "metadata": {},
   "outputs": [],
   "source": [
    "# conda install python-graphviz"
   ]
  },
  {
   "cell_type": "code",
   "execution_count": 37,
   "metadata": {
    "scrolled": true
   },
   "outputs": [
    {
     "ename": "NameError",
     "evalue": "name 'graphviz' is not defined",
     "output_type": "error",
     "traceback": [
      "\u001b[1;31m---------------------------------------------------------------------------\u001b[0m",
      "\u001b[1;31mNameError\u001b[0m                                 Traceback (most recent call last)",
      "\u001b[1;32m<ipython-input-37-53da9c559aee>\u001b[0m in \u001b[0;36m<module>\u001b[1;34m\u001b[0m\n\u001b[0;32m      1\u001b[0m \u001b[1;31m# Tree based on 1st column\u001b[0m\u001b[1;33m\u001b[0m\u001b[1;33m\u001b[0m\u001b[1;33m\u001b[0m\u001b[0m\n\u001b[1;32m----> 2\u001b[1;33m \u001b[0mplot_tree\u001b[0m\u001b[1;33m(\u001b[0m\u001b[0mdt_maxdepth1_v1\u001b[0m\u001b[1;33m,\u001b[0m \u001b[1;33m[\u001b[0m\u001b[1;34m'weight'\u001b[0m\u001b[1;33m]\u001b[0m\u001b[1;33m)\u001b[0m\u001b[1;33m\u001b[0m\u001b[1;33m\u001b[0m\u001b[0m\n\u001b[0m",
      "\u001b[1;32m<ipython-input-34-f494d0240e84>\u001b[0m in \u001b[0;36mplot_tree\u001b[1;34m(dt, used_cols, out_file)\u001b[0m\n\u001b[0;32m      6\u001b[0m     \u001b[1;32mwith\u001b[0m \u001b[0mopen\u001b[0m\u001b[1;33m(\u001b[0m\u001b[0mout_file\u001b[0m\u001b[1;33m)\u001b[0m \u001b[1;32mas\u001b[0m \u001b[0mf\u001b[0m\u001b[1;33m:\u001b[0m\u001b[1;33m\u001b[0m\u001b[1;33m\u001b[0m\u001b[0m\n\u001b[0;32m      7\u001b[0m         \u001b[0mdot_graph\u001b[0m \u001b[1;33m=\u001b[0m \u001b[0mf\u001b[0m\u001b[1;33m.\u001b[0m\u001b[0mread\u001b[0m\u001b[1;33m(\u001b[0m\u001b[1;33m)\u001b[0m\u001b[1;33m\u001b[0m\u001b[1;33m\u001b[0m\u001b[0m\n\u001b[1;32m----> 8\u001b[1;33m     \u001b[1;32mreturn\u001b[0m \u001b[0mgraphviz\u001b[0m\u001b[1;33m.\u001b[0m\u001b[0mSource\u001b[0m\u001b[1;33m(\u001b[0m\u001b[0mdot_graph\u001b[0m\u001b[1;33m)\u001b[0m\u001b[1;33m\u001b[0m\u001b[1;33m\u001b[0m\u001b[0m\n\u001b[0m",
      "\u001b[1;31mNameError\u001b[0m: name 'graphviz' is not defined"
     ]
    }
   ],
   "source": [
    "# Tree based on 1st column\n",
    "plot_tree(dt_maxdepth1_v1, ['weight'])"
   ]
  },
  {
   "cell_type": "code",
   "execution_count": 38,
   "metadata": {},
   "outputs": [
    {
     "ename": "NameError",
     "evalue": "name 'graphviz' is not defined",
     "output_type": "error",
     "traceback": [
      "\u001b[1;31m---------------------------------------------------------------------------\u001b[0m",
      "\u001b[1;31mNameError\u001b[0m                                 Traceback (most recent call last)",
      "\u001b[1;32m<ipython-input-38-3725dbeea315>\u001b[0m in \u001b[0;36m<module>\u001b[1;34m\u001b[0m\n\u001b[0;32m      1\u001b[0m \u001b[1;31m# Tree based on 2nd column\u001b[0m\u001b[1;33m\u001b[0m\u001b[1;33m\u001b[0m\u001b[1;33m\u001b[0m\u001b[0m\n\u001b[1;32m----> 2\u001b[1;33m \u001b[0mplot_tree\u001b[0m\u001b[1;33m(\u001b[0m\u001b[0mdt_maxdepth1_v2\u001b[0m\u001b[1;33m,\u001b[0m \u001b[1;33m[\u001b[0m\u001b[1;34m'origin'\u001b[0m\u001b[1;33m]\u001b[0m\u001b[1;33m)\u001b[0m\u001b[1;33m\u001b[0m\u001b[1;33m\u001b[0m\u001b[0m\n\u001b[0m",
      "\u001b[1;32m<ipython-input-34-f494d0240e84>\u001b[0m in \u001b[0;36mplot_tree\u001b[1;34m(dt, used_cols, out_file)\u001b[0m\n\u001b[0;32m      6\u001b[0m     \u001b[1;32mwith\u001b[0m \u001b[0mopen\u001b[0m\u001b[1;33m(\u001b[0m\u001b[0mout_file\u001b[0m\u001b[1;33m)\u001b[0m \u001b[1;32mas\u001b[0m \u001b[0mf\u001b[0m\u001b[1;33m:\u001b[0m\u001b[1;33m\u001b[0m\u001b[1;33m\u001b[0m\u001b[0m\n\u001b[0;32m      7\u001b[0m         \u001b[0mdot_graph\u001b[0m \u001b[1;33m=\u001b[0m \u001b[0mf\u001b[0m\u001b[1;33m.\u001b[0m\u001b[0mread\u001b[0m\u001b[1;33m(\u001b[0m\u001b[1;33m)\u001b[0m\u001b[1;33m\u001b[0m\u001b[1;33m\u001b[0m\u001b[0m\n\u001b[1;32m----> 8\u001b[1;33m     \u001b[1;32mreturn\u001b[0m \u001b[0mgraphviz\u001b[0m\u001b[1;33m.\u001b[0m\u001b[0mSource\u001b[0m\u001b[1;33m(\u001b[0m\u001b[0mdot_graph\u001b[0m\u001b[1;33m)\u001b[0m\u001b[1;33m\u001b[0m\u001b[1;33m\u001b[0m\u001b[0m\n\u001b[0m",
      "\u001b[1;31mNameError\u001b[0m: name 'graphviz' is not defined"
     ]
    }
   ],
   "source": [
    "# Tree based on 2nd column\n",
    "plot_tree(dt_maxdepth1_v2, ['origin'])"
   ]
  },
  {
   "cell_type": "markdown",
   "metadata": {},
   "source": [
    "#### Images:\n",
    "\n",
    "| Version 1: Weight | Version 2: Origin |\n",
    "| ----------------- | ----------------- |  \n",
    "| ![max depth 1 - version 1](img/dt-maxdepth1-v1.png) | ![max depth 1 - version 2](img/dt-maxdepth1-v2.png) |"
   ]
  },
  {
   "cell_type": "markdown",
   "metadata": {},
   "source": [
    "### 13) Which of these trees does a better job splitting the data? How can you tell?"
   ]
  },
  {
   "cell_type": "code",
   "execution_count": 39,
   "metadata": {},
   "outputs": [],
   "source": [
    "# call_on_students(1)"
   ]
  },
  {
   "cell_type": "markdown",
   "metadata": {},
   "source": [
    "#### Answer:\n",
    "\n",
    "- Version 1 because the distinct evens are separated better\n"
   ]
  },
  {
   "cell_type": "markdown",
   "metadata": {},
   "source": [
    "### 14) Fit a decision tree model, and plot a confusion matrix of the results on our test set"
   ]
  },
  {
   "cell_type": "code",
   "execution_count": 40,
   "metadata": {},
   "outputs": [],
   "source": [
    "# call_on_students(1)"
   ]
  },
  {
   "cell_type": "code",
   "execution_count": 41,
   "metadata": {},
   "outputs": [
    {
     "data": {
      "text/plain": [
       "DecisionTreeClassifier(random_state=42)"
      ]
     },
     "execution_count": 41,
     "metadata": {},
     "output_type": "execute_result"
    }
   ],
   "source": [
    "# Fit a decision tree model\n",
    "# Name the model `dt` and set random_state = 42\n",
    "dt = DecisionTreeClassifier(random_state = 42)\n",
    "\n",
    "dt.fit(X_train_scaled, y_train)"
   ]
  },
  {
   "cell_type": "code",
   "execution_count": 42,
   "metadata": {
    "scrolled": true
   },
   "outputs": [
    {
     "data": {
      "image/png": "[encoded data removed]",
      "text/plain": [
       "<Figure size 432x288 with 2 Axes>"
      ]
     },
     "metadata": {
      "needs_background": "light"
     },
     "output_type": "display_data"
    }
   ],
   "source": [
    "# Plot a confusion matrix on the test data\n",
    "plot_confusion_matrix(dt, X_test_scaled, y_test)\n",
    "plt.show()"
   ]
  },
  {
   "cell_type": "code",
   "execution_count": 43,
   "metadata": {},
   "outputs": [
    {
     "data": {
      "image/png": "[encoded data removed]",
      "text/plain": [
       "<Figure size 432x288 with 1 Axes>"
      ]
     },
     "metadata": {
      "needs_background": "light"
     },
     "output_type": "display_data"
    }
   ],
   "source": [
    "# Code to visualize the ROC curves for the models we've done\n",
    "fig, ax = plt.subplots()\n",
    "plot_roc_curve(dt, X_test_scaled, y_test, ax=ax)\n",
    "plot_roc_curve(logreg, X_test_scaled, y_test, ax=ax)\n",
    "\n",
    "plt.title(\"Receiver Operating Characteristic Curves\\n(Evaluated on Test Set)\")\n",
    "plt.show()"
   ]
  },
  {
   "cell_type": "markdown",
   "metadata": {},
   "source": [
    "### 15) Which is the better model according to ROC-AUC score? How can you tell?"
   ]
  },
  {
   "cell_type": "code",
   "execution_count": 44,
   "metadata": {},
   "outputs": [],
   "source": [
    "# call_on_students(1)"
   ]
  },
  {
   "cell_type": "markdown",
   "metadata": {},
   "source": [
    "#### Answer:\n",
    "\n",
    "- The Logistic Regression model is better because it has and haigher score and more area under the curve\n"
   ]
  },
  {
   "cell_type": "code",
   "execution_count": null,
   "metadata": {},
   "outputs": [],
   "source": []
  }
 ],
 "metadata": {
  "kernelspec": {
   "display_name": "Python (learn-env)",
   "language": "python",
   "name": "learn-env"
  },
  "language_info": {
   "codemirror_mode": {
    "name": "ipython",
    "version": 3
   },
   "file_extension": ".py",
   "mimetype": "text/x-python",
   "name": "python",
   "nbconvert_exporter": "python",
   "pygments_lexer": "ipython3",
   "version": "3.8.5"
  }
 },
 "nbformat": 4,
 "nbformat_minor": 2
}
